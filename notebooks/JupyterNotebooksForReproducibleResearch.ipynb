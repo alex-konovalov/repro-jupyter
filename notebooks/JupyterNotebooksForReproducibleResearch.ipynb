{
 "cells": [
  {
   "cell_type": "markdown",
   "metadata": {
    "slideshow": {
     "slide_type": "slide"
    }
   },
   "source": [
    "# Jupyter notebooks for reproducible research\n",
    "\n",
    "Alexander Konovalov\n",
    "\n",
    "_Centre for Interdisciplinary Research in Computational Algebra (CIRCA)_"
   ]
  },
  {
   "cell_type": "markdown",
   "metadata": {
    "slideshow": {
     "slide_type": "slide"
    }
   },
   "source": [
    "## Quote from classics ...\n",
    "\n",
    "* _Practices in source code sharing in astrophysics_, L.Shamir at al., Astronomy and Computing, vol. 1,\n",
    "Feb. 2013, 54–58\n",
    "* One of the references is almost 24 centuries old: this is “On Interpretation” by Aristotle\n",
    "* _“One of the important advantages of releasing source code is that it allows replication of the results, which is a key concept in science (Aristotle, 350BC).”_"
   ]
  },
  {
   "cell_type": "markdown",
   "metadata": {
    "slideshow": {
     "slide_type": "slide"
    }
   },
   "source": [
    "## Your mileage may vary\n",
    "\n",
    "* Have you been frustrated by trying to use someone else’s code which is non-trivial to install?\n",
    "* Have you tried to make supplementary code for your paper to be easily accessible for the reader?\n",
    "* This may require non-trivial efforts\n"
   ]
  },
  {
   "cell_type": "markdown",
   "metadata": {
    "slideshow": {
     "slide_type": "slide"
    }
   },
   "source": [
    "## Notebook interfaces\n",
    "\n",
    "* SageMath, R, IPython, Jupyter, ...\n",
    "* Combine code, results, text and graphics in the same document\n",
    "* Lower some barriers to reproducibility\n",
    "* But introduce some own challenges"
   ]
  },
  {
   "cell_type": "markdown",
   "metadata": {
    "slideshow": {
     "slide_type": "slide"
    }
   },
   "source": [
    "# What is a notebook?"
   ]
  },
  {
   "cell_type": "code",
   "execution_count": 1,
   "metadata": {
    "slideshow": {
     "slide_type": "fragment"
    }
   },
   "outputs": [],
   "source": [
    "a=21 # code cell without output"
   ]
  },
  {
   "cell_type": "code",
   "execution_count": 2,
   "metadata": {
    "slideshow": {
     "slide_type": "fragment"
    }
   },
   "outputs": [
    {
     "name": "stdout",
     "output_type": "stream",
     "text": [
      "21\n"
     ]
    }
   ],
   "source": [
    "print(a) # code cell with output"
   ]
  },
  {
   "cell_type": "markdown",
   "metadata": {
    "slideshow": {
     "slide_type": "fragment"
    }
   },
   "source": [
    "**This** is a _markdown_ cell. You can use LaTeX too: $21 \\times 2 = 42$\n",
    "\n"
   ]
  },
  {
   "cell_type": "code",
   "execution_count": 3,
   "metadata": {
    "slideshow": {
     "slide_type": "fragment"
    }
   },
   "outputs": [],
   "source": [
    "# could contain many lines\n",
    "def double(x):\n",
    "    '''double the argument'''\n",
    "    return 2*x"
   ]
  },
  {
   "cell_type": "code",
   "execution_count": 4,
   "metadata": {
    "slideshow": {
     "slide_type": "fragment"
    }
   },
   "outputs": [
    {
     "data": {
      "text/plain": [
       "42"
      ]
     },
     "execution_count": 4,
     "metadata": {},
     "output_type": "execute_result"
    }
   ],
   "source": [
    "double(a)"
   ]
  },
  {
   "cell_type": "markdown",
   "metadata": {
    "slideshow": {
     "slide_type": "slide"
    }
   },
   "source": [
    "## Hot off the press\n",
    "\n",
    "* **Ten Simple Rules for Reproducible Research in Jupyter Notebooks** by Adam Rule, Amanda Birmingham, Cristal Zuniga, Ilkay Altintas, Shih-Cheng Huang, Rob Knight, Niema Moshiri, Mai H. Nguyen, Sara Brin Rosenthal, Fernando Pérez, Peter W. Rose \n",
    "\n",
    "* https://arxiv.org/abs/1810.08055\n",
    "\n",
    "* The auhors consider barriers, opportunities and challenges, and tools for reproducible computaitonal research"
   ]
  },
  {
   "cell_type": "markdown",
   "metadata": {
    "slideshow": {
     "slide_type": "slide"
    }
   },
   "source": [
    "## Spaghetti notebooks?\n",
    "\n",
    "* One of the studies found out that only a small fraction of Jupyter notebooks mentioned in PubMedCentral publicaitons is runnable without problems with accessing data, resolving dependencies and using different platforms\n",
    "\n",
    "* Another analysis of over a million of Jupyter notebooks publicly available on GitHub found that about 25% of them do not have any text\n",
    "\n",
    "    - even those with text rarely contained detailed description of the steps or interpretation of results\n",
    "    \n",
    "* Are we going from undocumented code to undocumented notebooks?\n",
    "* We can and should do better!"
   ]
  },
  {
   "cell_type": "markdown",
   "metadata": {
    "slideshow": {
     "slide_type": "slide"
    }
   },
   "source": [
    "## Aspects of notebook development\n",
    "* Organise and document\n",
    "* Work with code\n",
    "* Share"
   ]
  },
  {
   "cell_type": "markdown",
   "metadata": {
    "slideshow": {
     "slide_type": "slide"
    }
   },
   "source": [
    "## Organise and document:\n",
    "    \n",
    "1. Tell a story, and match it to the audience\n",
    "2. Document the process, not just the results\n",
    "3. Get the right balance while splitting code and text between cells"
   ]
  },
  {
   "cell_type": "markdown",
   "metadata": {
    "slideshow": {
     "slide_type": "slide"
    }
   },
   "source": [
    "## Work with code\n",
    "4. Write modular code\n",
    "5. Document dependencies\n",
    "6. Use version control\n",
    "7. Establish a pipeline"
   ]
  },
  {
   "cell_type": "markdown",
   "metadata": {
    "slideshow": {
     "slide_type": "slide"
    }
   },
   "source": [
    "## Share\n",
    "8. Share and explain your data, not only the results\n",
    "9. Enable your notebooks to be read, run and explored\n",
    "10. Contribute to reproducible and open research!"
   ]
  },
  {
   "cell_type": "markdown",
   "metadata": {
    "slideshow": {
     "slide_type": "slide"
    }
   },
   "source": [
    "## Let us see some examples on Binder\n",
    "\n",
    "* Python: https://github.com/alex-konovalov/repro-jupyter\n",
    "\n",
    "* GAP: https://github.com/gap-system/try-gap-in-jupyter\n",
    "\n",
    "* GAP https://github.com/alex-konovalov/gap-teaching/\n",
    "\n",
    "* GAP + Travis CI + Codecov https://github.com/sukru-yalcinkaya/unipoly\n"
   ]
  }
 ],
 "metadata": {
  "celltoolbar": "Slideshow",
  "kernelspec": {
   "display_name": "Python 3",
   "language": "python",
   "name": "python3"
  },
  "language_info": {
   "codemirror_mode": {
    "name": "ipython",
    "version": 3
   },
   "file_extension": ".py",
   "mimetype": "text/x-python",
   "name": "python",
   "nbconvert_exporter": "python",
   "pygments_lexer": "ipython3",
   "version": "3.6.2"
  }
 },
 "nbformat": 4,
 "nbformat_minor": 2
}
